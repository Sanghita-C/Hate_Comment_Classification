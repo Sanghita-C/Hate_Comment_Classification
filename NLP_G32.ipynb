{
  "nbformat": 4,
  "nbformat_minor": 0,
  "metadata": {
    "colab": {
      "name": "NLP_G32.ipynb",
      "provenance": [],
      "collapsed_sections": [],
      "include_colab_link": true
    },
    "kernelspec": {
      "name": "python3",
      "display_name": "Python 3"
    },
    "language_info": {
      "name": "python"
    },
    "accelerator": "GPU"
  },
  "cells": [
    {
      "cell_type": "markdown",
      "metadata": {
        "id": "view-in-github",
        "colab_type": "text"
      },
      "source": [
        "<a href=\"https://colab.research.google.com/github/Sanghita-C/Hate_Comment_Classification/blob/main/NLP_G32.ipynb\" target=\"_parent\"><img src=\"https://colab.research.google.com/assets/colab-badge.svg\" alt=\"Open In Colab\"/></a>"
      ]
    },
    {
      "cell_type": "code",
      "metadata": {
        "colab": {
          "base_uri": "https://localhost:8080/"
        },
        "id": "YJyw9bD_TeCJ",
        "outputId": "7b3a03a6-85cf-41e0-ffb0-441c3b7f9b7b"
      },
      "source": [
        "from google.colab import drive\n",
        "drive.mount('/content/drive')"
      ],
      "execution_count": null,
      "outputs": [
        {
          "output_type": "stream",
          "name": "stdout",
          "text": [
            "Drive already mounted at /content/drive; to attempt to forcibly remount, call drive.mount(\"/content/drive\", force_remount=True).\n"
          ]
        }
      ]
    },
    {
      "cell_type": "code",
      "metadata": {
        "id": "PTihd0DceWnM"
      },
      "source": [
        "import numpy as np\n",
        "import pandas as pd\n",
        "import re\n",
        "import nltk\n",
        "import spacy\n",
        "import string\n",
        "pd.options.mode.chained_assignment = None"
      ],
      "execution_count": null,
      "outputs": []
    },
    {
      "cell_type": "code",
      "metadata": {
        "colab": {
          "base_uri": "https://localhost:8080/",
          "height": 203
        },
        "id": "KJAzSlShepO2",
        "outputId": "65d74df7-2e4c-4bce-ce5f-2378199bee92"
      },
      "source": [
        "full_df = pd.read_csv(\"/content/drive/My Drive/hateval2019_en_train.csv\")\n",
        "df = full_df[[\"text\"]]\n",
        "df[\"text\"] = df[\"text\"].astype(str)\n",
        "full_df.head()"
      ],
      "execution_count": null,
      "outputs": [
        {
          "output_type": "execute_result",
          "data": {
            "text/html": [
              "<div>\n",
              "<style scoped>\n",
              "    .dataframe tbody tr th:only-of-type {\n",
              "        vertical-align: middle;\n",
              "    }\n",
              "\n",
              "    .dataframe tbody tr th {\n",
              "        vertical-align: top;\n",
              "    }\n",
              "\n",
              "    .dataframe thead th {\n",
              "        text-align: right;\n",
              "    }\n",
              "</style>\n",
              "<table border=\"1\" class=\"dataframe\">\n",
              "  <thead>\n",
              "    <tr style=\"text-align: right;\">\n",
              "      <th></th>\n",
              "      <th>id</th>\n",
              "      <th>text</th>\n",
              "      <th>HS</th>\n",
              "      <th>TR</th>\n",
              "      <th>AG</th>\n",
              "    </tr>\n",
              "  </thead>\n",
              "  <tbody>\n",
              "    <tr>\n",
              "      <th>0</th>\n",
              "      <td>201</td>\n",
              "      <td>Hurray, saving us $$$ in so many ways @potus @...</td>\n",
              "      <td>1</td>\n",
              "      <td>0</td>\n",
              "      <td>0</td>\n",
              "    </tr>\n",
              "    <tr>\n",
              "      <th>1</th>\n",
              "      <td>202</td>\n",
              "      <td>Why would young fighting age men be the vast m...</td>\n",
              "      <td>1</td>\n",
              "      <td>0</td>\n",
              "      <td>0</td>\n",
              "    </tr>\n",
              "    <tr>\n",
              "      <th>2</th>\n",
              "      <td>203</td>\n",
              "      <td>@KamalaHarris Illegals Dump their Kids at the ...</td>\n",
              "      <td>1</td>\n",
              "      <td>0</td>\n",
              "      <td>0</td>\n",
              "    </tr>\n",
              "    <tr>\n",
              "      <th>3</th>\n",
              "      <td>204</td>\n",
              "      <td>NY Times: 'Nearly All White' States Pose 'an A...</td>\n",
              "      <td>0</td>\n",
              "      <td>0</td>\n",
              "      <td>0</td>\n",
              "    </tr>\n",
              "    <tr>\n",
              "      <th>4</th>\n",
              "      <td>205</td>\n",
              "      <td>Orban in Brussels: European leaders are ignori...</td>\n",
              "      <td>0</td>\n",
              "      <td>0</td>\n",
              "      <td>0</td>\n",
              "    </tr>\n",
              "  </tbody>\n",
              "</table>\n",
              "</div>"
            ],
            "text/plain": [
              "    id                                               text  HS  TR  AG\n",
              "0  201  Hurray, saving us $$$ in so many ways @potus @...   1   0   0\n",
              "1  202  Why would young fighting age men be the vast m...   1   0   0\n",
              "2  203  @KamalaHarris Illegals Dump their Kids at the ...   1   0   0\n",
              "3  204  NY Times: 'Nearly All White' States Pose 'an A...   0   0   0\n",
              "4  205  Orban in Brussels: European leaders are ignori...   0   0   0"
            ]
          },
          "metadata": {},
          "execution_count": 126
        }
      ]
    },
    {
      "cell_type": "markdown",
      "metadata": {
        "id": "1wDGw-9Qlzrb"
      },
      "source": [
        "REMOVE USERNAME"
      ]
    },
    {
      "cell_type": "code",
      "metadata": {
        "colab": {
          "base_uri": "https://localhost:8080/",
          "height": 203
        },
        "id": "p4akRmCRl2DE",
        "outputId": "25b75f2d-5cdc-4e8c-bbae-dc36f627bfaa"
      },
      "source": [
        "import re\n",
        "\n",
        "def remove_usernames_links(tweet):\n",
        "    tweet = re.sub('@[^\\s]+','',tweet)\n",
        "    tweet = re.sub('http[^\\s]+','',tweet)\n",
        "    return tweet\n",
        "\n",
        "df['tweet'] = df[\"text\"].apply(remove_usernames_links)\n",
        "df.head()"
      ],
      "execution_count": null,
      "outputs": [
        {
          "output_type": "execute_result",
          "data": {
            "text/html": [
              "<div>\n",
              "<style scoped>\n",
              "    .dataframe tbody tr th:only-of-type {\n",
              "        vertical-align: middle;\n",
              "    }\n",
              "\n",
              "    .dataframe tbody tr th {\n",
              "        vertical-align: top;\n",
              "    }\n",
              "\n",
              "    .dataframe thead th {\n",
              "        text-align: right;\n",
              "    }\n",
              "</style>\n",
              "<table border=\"1\" class=\"dataframe\">\n",
              "  <thead>\n",
              "    <tr style=\"text-align: right;\">\n",
              "      <th></th>\n",
              "      <th>text</th>\n",
              "      <th>tweet</th>\n",
              "    </tr>\n",
              "  </thead>\n",
              "  <tbody>\n",
              "    <tr>\n",
              "      <th>0</th>\n",
              "      <td>Hurray, saving us $$$ in so many ways @potus @...</td>\n",
              "      <td>Hurray, saving us $$$ in so many ways   #LockT...</td>\n",
              "    </tr>\n",
              "    <tr>\n",
              "      <th>1</th>\n",
              "      <td>Why would young fighting age men be the vast m...</td>\n",
              "      <td>Why would young fighting age men be the vast m...</td>\n",
              "    </tr>\n",
              "    <tr>\n",
              "      <th>2</th>\n",
              "      <td>@KamalaHarris Illegals Dump their Kids at the ...</td>\n",
              "      <td>Illegals Dump their Kids at the border like R...</td>\n",
              "    </tr>\n",
              "    <tr>\n",
              "      <th>3</th>\n",
              "      <td>NY Times: 'Nearly All White' States Pose 'an A...</td>\n",
              "      <td>NY Times: 'Nearly All White' States Pose 'an A...</td>\n",
              "    </tr>\n",
              "    <tr>\n",
              "      <th>4</th>\n",
              "      <td>Orban in Brussels: European leaders are ignori...</td>\n",
              "      <td>Orban in Brussels: European leaders are ignori...</td>\n",
              "    </tr>\n",
              "  </tbody>\n",
              "</table>\n",
              "</div>"
            ],
            "text/plain": [
              "                                                text                                              tweet\n",
              "0  Hurray, saving us $$$ in so many ways @potus @...  Hurray, saving us $$$ in so many ways   #LockT...\n",
              "1  Why would young fighting age men be the vast m...  Why would young fighting age men be the vast m...\n",
              "2  @KamalaHarris Illegals Dump their Kids at the ...   Illegals Dump their Kids at the border like R...\n",
              "3  NY Times: 'Nearly All White' States Pose 'an A...  NY Times: 'Nearly All White' States Pose 'an A...\n",
              "4  Orban in Brussels: European leaders are ignori...  Orban in Brussels: European leaders are ignori..."
            ]
          },
          "metadata": {},
          "execution_count": 127
        }
      ]
    },
    {
      "cell_type": "markdown",
      "metadata": {
        "id": "ZWFwfhf3fEDv"
      },
      "source": [
        "LOWER CASING"
      ]
    },
    {
      "cell_type": "code",
      "metadata": {
        "colab": {
          "base_uri": "https://localhost:8080/",
          "height": 203
        },
        "id": "fymHLBkje_8b",
        "outputId": "533960a9-0e68-4590-b44a-31cdfa09e5df"
      },
      "source": [
        "df[\"text_lower\"] = df[\"tweet\"].str.lower()\n",
        "df.head()"
      ],
      "execution_count": null,
      "outputs": [
        {
          "output_type": "execute_result",
          "data": {
            "text/html": [
              "<div>\n",
              "<style scoped>\n",
              "    .dataframe tbody tr th:only-of-type {\n",
              "        vertical-align: middle;\n",
              "    }\n",
              "\n",
              "    .dataframe tbody tr th {\n",
              "        vertical-align: top;\n",
              "    }\n",
              "\n",
              "    .dataframe thead th {\n",
              "        text-align: right;\n",
              "    }\n",
              "</style>\n",
              "<table border=\"1\" class=\"dataframe\">\n",
              "  <thead>\n",
              "    <tr style=\"text-align: right;\">\n",
              "      <th></th>\n",
              "      <th>text</th>\n",
              "      <th>tweet</th>\n",
              "      <th>text_lower</th>\n",
              "    </tr>\n",
              "  </thead>\n",
              "  <tbody>\n",
              "    <tr>\n",
              "      <th>0</th>\n",
              "      <td>Hurray, saving us $$$ in so many ways @potus @...</td>\n",
              "      <td>Hurray, saving us $$$ in so many ways   #LockT...</td>\n",
              "      <td>hurray, saving us $$$ in so many ways   #lockt...</td>\n",
              "    </tr>\n",
              "    <tr>\n",
              "      <th>1</th>\n",
              "      <td>Why would young fighting age men be the vast m...</td>\n",
              "      <td>Why would young fighting age men be the vast m...</td>\n",
              "      <td>why would young fighting age men be the vast m...</td>\n",
              "    </tr>\n",
              "    <tr>\n",
              "      <th>2</th>\n",
              "      <td>@KamalaHarris Illegals Dump their Kids at the ...</td>\n",
              "      <td>Illegals Dump their Kids at the border like R...</td>\n",
              "      <td>illegals dump their kids at the border like r...</td>\n",
              "    </tr>\n",
              "    <tr>\n",
              "      <th>3</th>\n",
              "      <td>NY Times: 'Nearly All White' States Pose 'an A...</td>\n",
              "      <td>NY Times: 'Nearly All White' States Pose 'an A...</td>\n",
              "      <td>ny times: 'nearly all white' states pose 'an a...</td>\n",
              "    </tr>\n",
              "    <tr>\n",
              "      <th>4</th>\n",
              "      <td>Orban in Brussels: European leaders are ignori...</td>\n",
              "      <td>Orban in Brussels: European leaders are ignori...</td>\n",
              "      <td>orban in brussels: european leaders are ignori...</td>\n",
              "    </tr>\n",
              "  </tbody>\n",
              "</table>\n",
              "</div>"
            ],
            "text/plain": [
              "                                                text  ...                                         text_lower\n",
              "0  Hurray, saving us $$$ in so many ways @potus @...  ...  hurray, saving us $$$ in so many ways   #lockt...\n",
              "1  Why would young fighting age men be the vast m...  ...  why would young fighting age men be the vast m...\n",
              "2  @KamalaHarris Illegals Dump their Kids at the ...  ...   illegals dump their kids at the border like r...\n",
              "3  NY Times: 'Nearly All White' States Pose 'an A...  ...  ny times: 'nearly all white' states pose 'an a...\n",
              "4  Orban in Brussels: European leaders are ignori...  ...  orban in brussels: european leaders are ignori...\n",
              "\n",
              "[5 rows x 3 columns]"
            ]
          },
          "metadata": {},
          "execution_count": 128
        }
      ]
    },
    {
      "cell_type": "markdown",
      "metadata": {
        "id": "agxBEhK8fJx3"
      },
      "source": [
        "REMOVE PUNCTUATIONS"
      ]
    },
    {
      "cell_type": "code",
      "metadata": {
        "colab": {
          "base_uri": "https://localhost:8080/",
          "height": 203
        },
        "id": "aFdsR5lBfPaQ",
        "outputId": "0ce9b528-be36-4ed9-eddb-f5af1ab2afe5"
      },
      "source": [
        "# drop the new column created in last cell\n",
        "#df.drop([\"text_lower\"], axis=1, inplace=True)\n",
        "\n",
        "PUNCT_TO_REMOVE = string.punctuation\n",
        "def remove_punctuation(text):\n",
        "    \"\"\"custom function to remove the punctuation\"\"\"\n",
        "    return text.translate(str.maketrans('', '', PUNCT_TO_REMOVE))\n",
        "\n",
        "df[\"text_wo_punct\"] = df['text_lower'].apply(lambda text: remove_punctuation(text))\n",
        "df.head()"
      ],
      "execution_count": null,
      "outputs": [
        {
          "output_type": "execute_result",
          "data": {
            "text/html": [
              "<div>\n",
              "<style scoped>\n",
              "    .dataframe tbody tr th:only-of-type {\n",
              "        vertical-align: middle;\n",
              "    }\n",
              "\n",
              "    .dataframe tbody tr th {\n",
              "        vertical-align: top;\n",
              "    }\n",
              "\n",
              "    .dataframe thead th {\n",
              "        text-align: right;\n",
              "    }\n",
              "</style>\n",
              "<table border=\"1\" class=\"dataframe\">\n",
              "  <thead>\n",
              "    <tr style=\"text-align: right;\">\n",
              "      <th></th>\n",
              "      <th>text</th>\n",
              "      <th>tweet</th>\n",
              "      <th>text_lower</th>\n",
              "      <th>text_wo_punct</th>\n",
              "    </tr>\n",
              "  </thead>\n",
              "  <tbody>\n",
              "    <tr>\n",
              "      <th>0</th>\n",
              "      <td>Hurray, saving us $$$ in so many ways @potus @...</td>\n",
              "      <td>Hurray, saving us $$$ in so many ways   #LockT...</td>\n",
              "      <td>hurray, saving us $$$ in so many ways   #lockt...</td>\n",
              "      <td>hurray saving us  in so many ways   lockthemup...</td>\n",
              "    </tr>\n",
              "    <tr>\n",
              "      <th>1</th>\n",
              "      <td>Why would young fighting age men be the vast m...</td>\n",
              "      <td>Why would young fighting age men be the vast m...</td>\n",
              "      <td>why would young fighting age men be the vast m...</td>\n",
              "      <td>why would young fighting age men be the vast m...</td>\n",
              "    </tr>\n",
              "    <tr>\n",
              "      <th>2</th>\n",
              "      <td>@KamalaHarris Illegals Dump their Kids at the ...</td>\n",
              "      <td>Illegals Dump their Kids at the border like R...</td>\n",
              "      <td>illegals dump their kids at the border like r...</td>\n",
              "      <td>illegals dump their kids at the border like r...</td>\n",
              "    </tr>\n",
              "    <tr>\n",
              "      <th>3</th>\n",
              "      <td>NY Times: 'Nearly All White' States Pose 'an A...</td>\n",
              "      <td>NY Times: 'Nearly All White' States Pose 'an A...</td>\n",
              "      <td>ny times: 'nearly all white' states pose 'an a...</td>\n",
              "      <td>ny times nearly all white states pose an array...</td>\n",
              "    </tr>\n",
              "    <tr>\n",
              "      <th>4</th>\n",
              "      <td>Orban in Brussels: European leaders are ignori...</td>\n",
              "      <td>Orban in Brussels: European leaders are ignori...</td>\n",
              "      <td>orban in brussels: european leaders are ignori...</td>\n",
              "      <td>orban in brussels european leaders are ignorin...</td>\n",
              "    </tr>\n",
              "  </tbody>\n",
              "</table>\n",
              "</div>"
            ],
            "text/plain": [
              "                                                text  ...                                      text_wo_punct\n",
              "0  Hurray, saving us $$$ in so many ways @potus @...  ...  hurray saving us  in so many ways   lockthemup...\n",
              "1  Why would young fighting age men be the vast m...  ...  why would young fighting age men be the vast m...\n",
              "2  @KamalaHarris Illegals Dump their Kids at the ...  ...   illegals dump their kids at the border like r...\n",
              "3  NY Times: 'Nearly All White' States Pose 'an A...  ...  ny times nearly all white states pose an array...\n",
              "4  Orban in Brussels: European leaders are ignori...  ...  orban in brussels european leaders are ignorin...\n",
              "\n",
              "[5 rows x 4 columns]"
            ]
          },
          "metadata": {},
          "execution_count": 129
        }
      ]
    },
    {
      "cell_type": "markdown",
      "metadata": {
        "id": "ayIvuxFTfW3t"
      },
      "source": [
        "STOPWORDS"
      ]
    },
    {
      "cell_type": "code",
      "metadata": {
        "colab": {
          "base_uri": "https://localhost:8080/"
        },
        "id": "GoW-3JpOg3lZ",
        "outputId": "1941c0e4-6ec1-453c-f142-a4188014760a"
      },
      "source": [
        "!pip install nltk"
      ],
      "execution_count": null,
      "outputs": [
        {
          "output_type": "stream",
          "name": "stdout",
          "text": [
            "Requirement already satisfied: nltk in /usr/local/lib/python3.7/dist-packages (3.2.5)\n",
            "Requirement already satisfied: six in /usr/local/lib/python3.7/dist-packages (from nltk) (1.15.0)\n"
          ]
        }
      ]
    },
    {
      "cell_type": "code",
      "metadata": {
        "colab": {
          "base_uri": "https://localhost:8080/"
        },
        "id": "Qzi6C5ung_yU",
        "outputId": "d3f508f6-279d-4580-ca17-3beb3e5c73ae"
      },
      "source": [
        "import nltk\n",
        "nltk.download('stopwords')"
      ],
      "execution_count": null,
      "outputs": [
        {
          "output_type": "stream",
          "name": "stdout",
          "text": [
            "[nltk_data] Downloading package stopwords to /root/nltk_data...\n",
            "[nltk_data]   Package stopwords is already up-to-date!\n"
          ]
        },
        {
          "output_type": "execute_result",
          "data": {
            "text/plain": [
              "True"
            ]
          },
          "metadata": {},
          "execution_count": 131
        }
      ]
    },
    {
      "cell_type": "code",
      "metadata": {
        "colab": {
          "base_uri": "https://localhost:8080/",
          "height": 120
        },
        "id": "aHW6r6LMfPfx",
        "outputId": "38176b72-bc75-4232-d6fa-501bcd35e1f4"
      },
      "source": [
        "from nltk.corpus import stopwords\n",
        "\", \".join(stopwords.words('english'))\n"
      ],
      "execution_count": null,
      "outputs": [
        {
          "output_type": "execute_result",
          "data": {
            "application/vnd.google.colaboratory.intrinsic+json": {
              "type": "string"
            },
            "text/plain": [
              "\"i, me, my, myself, we, our, ours, ourselves, you, you're, you've, you'll, you'd, your, yours, yourself, yourselves, he, him, his, himself, she, she's, her, hers, herself, it, it's, its, itself, they, them, their, theirs, themselves, what, which, who, whom, this, that, that'll, these, those, am, is, are, was, were, be, been, being, have, has, had, having, do, does, did, doing, a, an, the, and, but, if, or, because, as, until, while, of, at, by, for, with, about, against, between, into, through, during, before, after, above, below, to, from, up, down, in, out, on, off, over, under, again, further, then, once, here, there, when, where, why, how, all, any, both, each, few, more, most, other, some, such, no, nor, not, only, own, same, so, than, too, very, s, t, can, will, just, don, don't, should, should've, now, d, ll, m, o, re, ve, y, ain, aren, aren't, couldn, couldn't, didn, didn't, doesn, doesn't, hadn, hadn't, hasn, hasn't, haven, haven't, isn, isn't, ma, mightn, mightn't, mustn, mustn't, needn, needn't, shan, shan't, shouldn, shouldn't, wasn, wasn't, weren, weren't, won, won't, wouldn, wouldn't\""
            ]
          },
          "metadata": {},
          "execution_count": 132
        }
      ]
    },
    {
      "cell_type": "code",
      "metadata": {
        "colab": {
          "base_uri": "https://localhost:8080/",
          "height": 287
        },
        "id": "aLR1Tqn_g3tw",
        "outputId": "35a37cfc-0d92-4594-bbf5-5d865372775b"
      },
      "source": [
        "STOPWORDS = set(stopwords.words('english'))\n",
        "def remove_stopwords(text):\n",
        "    \"\"\"custom function to remove the stopwords\"\"\"\n",
        "    return \" \".join([word for word in str(text).split() if word not in STOPWORDS])\n",
        "\n",
        "df[\"text_wo_stop\"] = df[\"text_wo_punct\"].apply(lambda text: remove_stopwords(text))\n",
        "df.head()"
      ],
      "execution_count": null,
      "outputs": [
        {
          "output_type": "execute_result",
          "data": {
            "text/html": [
              "<div>\n",
              "<style scoped>\n",
              "    .dataframe tbody tr th:only-of-type {\n",
              "        vertical-align: middle;\n",
              "    }\n",
              "\n",
              "    .dataframe tbody tr th {\n",
              "        vertical-align: top;\n",
              "    }\n",
              "\n",
              "    .dataframe thead th {\n",
              "        text-align: right;\n",
              "    }\n",
              "</style>\n",
              "<table border=\"1\" class=\"dataframe\">\n",
              "  <thead>\n",
              "    <tr style=\"text-align: right;\">\n",
              "      <th></th>\n",
              "      <th>text</th>\n",
              "      <th>tweet</th>\n",
              "      <th>text_lower</th>\n",
              "      <th>text_wo_punct</th>\n",
              "      <th>text_wo_stop</th>\n",
              "    </tr>\n",
              "  </thead>\n",
              "  <tbody>\n",
              "    <tr>\n",
              "      <th>0</th>\n",
              "      <td>Hurray, saving us $$$ in so many ways @potus @...</td>\n",
              "      <td>Hurray, saving us $$$ in so many ways   #LockT...</td>\n",
              "      <td>hurray, saving us $$$ in so many ways   #lockt...</td>\n",
              "      <td>hurray saving us  in so many ways   lockthemup...</td>\n",
              "      <td>hurray saving us many ways lockthemup buildthe...</td>\n",
              "    </tr>\n",
              "    <tr>\n",
              "      <th>1</th>\n",
              "      <td>Why would young fighting age men be the vast m...</td>\n",
              "      <td>Why would young fighting age men be the vast m...</td>\n",
              "      <td>why would young fighting age men be the vast m...</td>\n",
              "      <td>why would young fighting age men be the vast m...</td>\n",
              "      <td>would young fighting age men vast majority one...</td>\n",
              "    </tr>\n",
              "    <tr>\n",
              "      <th>2</th>\n",
              "      <td>@KamalaHarris Illegals Dump their Kids at the ...</td>\n",
              "      <td>Illegals Dump their Kids at the border like R...</td>\n",
              "      <td>illegals dump their kids at the border like r...</td>\n",
              "      <td>illegals dump their kids at the border like r...</td>\n",
              "      <td>illegals dump kids border like road kill refus...</td>\n",
              "    </tr>\n",
              "    <tr>\n",
              "      <th>3</th>\n",
              "      <td>NY Times: 'Nearly All White' States Pose 'an A...</td>\n",
              "      <td>NY Times: 'Nearly All White' States Pose 'an A...</td>\n",
              "      <td>ny times: 'nearly all white' states pose 'an a...</td>\n",
              "      <td>ny times nearly all white states pose an array...</td>\n",
              "      <td>ny times nearly white states pose array proble...</td>\n",
              "    </tr>\n",
              "    <tr>\n",
              "      <th>4</th>\n",
              "      <td>Orban in Brussels: European leaders are ignori...</td>\n",
              "      <td>Orban in Brussels: European leaders are ignori...</td>\n",
              "      <td>orban in brussels: european leaders are ignori...</td>\n",
              "      <td>orban in brussels european leaders are ignorin...</td>\n",
              "      <td>orban brussels european leaders ignoring peopl...</td>\n",
              "    </tr>\n",
              "  </tbody>\n",
              "</table>\n",
              "</div>"
            ],
            "text/plain": [
              "                                                text  ...                                       text_wo_stop\n",
              "0  Hurray, saving us $$$ in so many ways @potus @...  ...  hurray saving us many ways lockthemup buildthe...\n",
              "1  Why would young fighting age men be the vast m...  ...  would young fighting age men vast majority one...\n",
              "2  @KamalaHarris Illegals Dump their Kids at the ...  ...  illegals dump kids border like road kill refus...\n",
              "3  NY Times: 'Nearly All White' States Pose 'an A...  ...  ny times nearly white states pose array proble...\n",
              "4  Orban in Brussels: European leaders are ignori...  ...  orban brussels european leaders ignoring peopl...\n",
              "\n",
              "[5 rows x 5 columns]"
            ]
          },
          "metadata": {},
          "execution_count": 133
        }
      ]
    },
    {
      "cell_type": "markdown",
      "metadata": {
        "id": "twXfM95sjHmE"
      },
      "source": [
        "REMOVE URLS"
      ]
    },
    {
      "cell_type": "code",
      "metadata": {
        "id": "t5_rQS0bh8LP"
      },
      "source": [
        "def remove_urls(text):\n",
        "    url_pattern = re.compile(r'https?://\\S+|www\\.\\S+')\n",
        "    return url_pattern.sub(r'', text)"
      ],
      "execution_count": null,
      "outputs": []
    },
    {
      "cell_type": "code",
      "metadata": {
        "colab": {
          "base_uri": "https://localhost:8080/",
          "height": 287
        },
        "id": "NvAsPVBmieSo",
        "outputId": "14455462-6e4a-41c0-9e2c-8118e259403c"
      },
      "source": [
        "df[\"text_wo_urlno\"] = df[\"text_wo_stop\"].apply(lambda text: remove_urls(text))\n",
        "df.head()"
      ],
      "execution_count": null,
      "outputs": [
        {
          "output_type": "execute_result",
          "data": {
            "text/html": [
              "<div>\n",
              "<style scoped>\n",
              "    .dataframe tbody tr th:only-of-type {\n",
              "        vertical-align: middle;\n",
              "    }\n",
              "\n",
              "    .dataframe tbody tr th {\n",
              "        vertical-align: top;\n",
              "    }\n",
              "\n",
              "    .dataframe thead th {\n",
              "        text-align: right;\n",
              "    }\n",
              "</style>\n",
              "<table border=\"1\" class=\"dataframe\">\n",
              "  <thead>\n",
              "    <tr style=\"text-align: right;\">\n",
              "      <th></th>\n",
              "      <th>text</th>\n",
              "      <th>tweet</th>\n",
              "      <th>text_lower</th>\n",
              "      <th>text_wo_punct</th>\n",
              "      <th>text_wo_stop</th>\n",
              "      <th>text_wo_urlno</th>\n",
              "    </tr>\n",
              "  </thead>\n",
              "  <tbody>\n",
              "    <tr>\n",
              "      <th>0</th>\n",
              "      <td>Hurray, saving us $$$ in so many ways @potus @...</td>\n",
              "      <td>Hurray, saving us $$$ in so many ways   #LockT...</td>\n",
              "      <td>hurray, saving us $$$ in so many ways   #lockt...</td>\n",
              "      <td>hurray saving us  in so many ways   lockthemup...</td>\n",
              "      <td>hurray saving us many ways lockthemup buildthe...</td>\n",
              "      <td>hurray saving us many ways lockthemup buildthe...</td>\n",
              "    </tr>\n",
              "    <tr>\n",
              "      <th>1</th>\n",
              "      <td>Why would young fighting age men be the vast m...</td>\n",
              "      <td>Why would young fighting age men be the vast m...</td>\n",
              "      <td>why would young fighting age men be the vast m...</td>\n",
              "      <td>why would young fighting age men be the vast m...</td>\n",
              "      <td>would young fighting age men vast majority one...</td>\n",
              "      <td>would young fighting age men vast majority one...</td>\n",
              "    </tr>\n",
              "    <tr>\n",
              "      <th>2</th>\n",
              "      <td>@KamalaHarris Illegals Dump their Kids at the ...</td>\n",
              "      <td>Illegals Dump their Kids at the border like R...</td>\n",
              "      <td>illegals dump their kids at the border like r...</td>\n",
              "      <td>illegals dump their kids at the border like r...</td>\n",
              "      <td>illegals dump kids border like road kill refus...</td>\n",
              "      <td>illegals dump kids border like road kill refus...</td>\n",
              "    </tr>\n",
              "    <tr>\n",
              "      <th>3</th>\n",
              "      <td>NY Times: 'Nearly All White' States Pose 'an A...</td>\n",
              "      <td>NY Times: 'Nearly All White' States Pose 'an A...</td>\n",
              "      <td>ny times: 'nearly all white' states pose 'an a...</td>\n",
              "      <td>ny times nearly all white states pose an array...</td>\n",
              "      <td>ny times nearly white states pose array proble...</td>\n",
              "      <td>ny times nearly white states pose array proble...</td>\n",
              "    </tr>\n",
              "    <tr>\n",
              "      <th>4</th>\n",
              "      <td>Orban in Brussels: European leaders are ignori...</td>\n",
              "      <td>Orban in Brussels: European leaders are ignori...</td>\n",
              "      <td>orban in brussels: european leaders are ignori...</td>\n",
              "      <td>orban in brussels european leaders are ignorin...</td>\n",
              "      <td>orban brussels european leaders ignoring peopl...</td>\n",
              "      <td>orban brussels european leaders ignoring peopl...</td>\n",
              "    </tr>\n",
              "  </tbody>\n",
              "</table>\n",
              "</div>"
            ],
            "text/plain": [
              "                                                text  ...                                      text_wo_urlno\n",
              "0  Hurray, saving us $$$ in so many ways @potus @...  ...  hurray saving us many ways lockthemup buildthe...\n",
              "1  Why would young fighting age men be the vast m...  ...  would young fighting age men vast majority one...\n",
              "2  @KamalaHarris Illegals Dump their Kids at the ...  ...  illegals dump kids border like road kill refus...\n",
              "3  NY Times: 'Nearly All White' States Pose 'an A...  ...  ny times nearly white states pose array proble...\n",
              "4  Orban in Brussels: European leaders are ignori...  ...  orban brussels european leaders ignoring peopl...\n",
              "\n",
              "[5 rows x 6 columns]"
            ]
          },
          "metadata": {},
          "execution_count": 135
        }
      ]
    },
    {
      "cell_type": "markdown",
      "metadata": {
        "id": "8JvAS01ejLiC"
      },
      "source": [
        "REMOVE HTML TAGS"
      ]
    },
    {
      "cell_type": "code",
      "metadata": {
        "colab": {
          "base_uri": "https://localhost:8080/",
          "height": 304
        },
        "id": "Jydj5i7KjNfP",
        "outputId": "d6c318c0-430b-4aa6-9db3-ea3d7ed34c48"
      },
      "source": [
        "def remove_html(text):\n",
        "    html_pattern = re.compile('<.*?>')\n",
        "    return html_pattern.sub(r'', text)\n",
        "\n",
        "df[\"text_wo_htmlno\"] = df[\"text_wo_urlno\"].apply(lambda text: remove_html(text))\n",
        "df.head()\n"
      ],
      "execution_count": null,
      "outputs": [
        {
          "output_type": "execute_result",
          "data": {
            "text/html": [
              "<div>\n",
              "<style scoped>\n",
              "    .dataframe tbody tr th:only-of-type {\n",
              "        vertical-align: middle;\n",
              "    }\n",
              "\n",
              "    .dataframe tbody tr th {\n",
              "        vertical-align: top;\n",
              "    }\n",
              "\n",
              "    .dataframe thead th {\n",
              "        text-align: right;\n",
              "    }\n",
              "</style>\n",
              "<table border=\"1\" class=\"dataframe\">\n",
              "  <thead>\n",
              "    <tr style=\"text-align: right;\">\n",
              "      <th></th>\n",
              "      <th>text</th>\n",
              "      <th>tweet</th>\n",
              "      <th>text_lower</th>\n",
              "      <th>text_wo_punct</th>\n",
              "      <th>text_wo_stop</th>\n",
              "      <th>text_wo_urlno</th>\n",
              "      <th>text_wo_htmlno</th>\n",
              "    </tr>\n",
              "  </thead>\n",
              "  <tbody>\n",
              "    <tr>\n",
              "      <th>0</th>\n",
              "      <td>Hurray, saving us $$$ in so many ways @potus @...</td>\n",
              "      <td>Hurray, saving us $$$ in so many ways   #LockT...</td>\n",
              "      <td>hurray, saving us $$$ in so many ways   #lockt...</td>\n",
              "      <td>hurray saving us  in so many ways   lockthemup...</td>\n",
              "      <td>hurray saving us many ways lockthemup buildthe...</td>\n",
              "      <td>hurray saving us many ways lockthemup buildthe...</td>\n",
              "      <td>hurray saving us many ways lockthemup buildthe...</td>\n",
              "    </tr>\n",
              "    <tr>\n",
              "      <th>1</th>\n",
              "      <td>Why would young fighting age men be the vast m...</td>\n",
              "      <td>Why would young fighting age men be the vast m...</td>\n",
              "      <td>why would young fighting age men be the vast m...</td>\n",
              "      <td>why would young fighting age men be the vast m...</td>\n",
              "      <td>would young fighting age men vast majority one...</td>\n",
              "      <td>would young fighting age men vast majority one...</td>\n",
              "      <td>would young fighting age men vast majority one...</td>\n",
              "    </tr>\n",
              "    <tr>\n",
              "      <th>2</th>\n",
              "      <td>@KamalaHarris Illegals Dump their Kids at the ...</td>\n",
              "      <td>Illegals Dump their Kids at the border like R...</td>\n",
              "      <td>illegals dump their kids at the border like r...</td>\n",
              "      <td>illegals dump their kids at the border like r...</td>\n",
              "      <td>illegals dump kids border like road kill refus...</td>\n",
              "      <td>illegals dump kids border like road kill refus...</td>\n",
              "      <td>illegals dump kids border like road kill refus...</td>\n",
              "    </tr>\n",
              "    <tr>\n",
              "      <th>3</th>\n",
              "      <td>NY Times: 'Nearly All White' States Pose 'an A...</td>\n",
              "      <td>NY Times: 'Nearly All White' States Pose 'an A...</td>\n",
              "      <td>ny times: 'nearly all white' states pose 'an a...</td>\n",
              "      <td>ny times nearly all white states pose an array...</td>\n",
              "      <td>ny times nearly white states pose array proble...</td>\n",
              "      <td>ny times nearly white states pose array proble...</td>\n",
              "      <td>ny times nearly white states pose array proble...</td>\n",
              "    </tr>\n",
              "    <tr>\n",
              "      <th>4</th>\n",
              "      <td>Orban in Brussels: European leaders are ignori...</td>\n",
              "      <td>Orban in Brussels: European leaders are ignori...</td>\n",
              "      <td>orban in brussels: european leaders are ignori...</td>\n",
              "      <td>orban in brussels european leaders are ignorin...</td>\n",
              "      <td>orban brussels european leaders ignoring peopl...</td>\n",
              "      <td>orban brussels european leaders ignoring peopl...</td>\n",
              "      <td>orban brussels european leaders ignoring peopl...</td>\n",
              "    </tr>\n",
              "  </tbody>\n",
              "</table>\n",
              "</div>"
            ],
            "text/plain": [
              "                                                text  ...                                     text_wo_htmlno\n",
              "0  Hurray, saving us $$$ in so many ways @potus @...  ...  hurray saving us many ways lockthemup buildthe...\n",
              "1  Why would young fighting age men be the vast m...  ...  would young fighting age men vast majority one...\n",
              "2  @KamalaHarris Illegals Dump their Kids at the ...  ...  illegals dump kids border like road kill refus...\n",
              "3  NY Times: 'Nearly All White' States Pose 'an A...  ...  ny times nearly white states pose array proble...\n",
              "4  Orban in Brussels: European leaders are ignori...  ...  orban brussels european leaders ignoring peopl...\n",
              "\n",
              "[5 rows x 7 columns]"
            ]
          },
          "metadata": {},
          "execution_count": 136
        }
      ]
    },
    {
      "cell_type": "markdown",
      "metadata": {
        "id": "ZJR_fP8Pjuca"
      },
      "source": [
        "REMOVE DIGITS"
      ]
    },
    {
      "cell_type": "code",
      "metadata": {
        "id": "lOoVNHv2jt76"
      },
      "source": [
        "#df['text_wo_digitno'] = df['text_wo_urlno'].apply(lambda x: re.sub('W*dw*','',x))\n",
        "#df.head()"
      ],
      "execution_count": null,
      "outputs": []
    },
    {
      "cell_type": "markdown",
      "metadata": {
        "id": "gPukdQXDkMZt"
      },
      "source": [
        "LEMMATIZATION"
      ]
    },
    {
      "cell_type": "code",
      "metadata": {
        "colab": {
          "base_uri": "https://localhost:8080/",
          "height": 438
        },
        "id": "-Sv4nhZmkL0p",
        "outputId": "0332b0c7-3e1e-44c2-dce3-7caefc407e02"
      },
      "source": [
        "nltk.download('averaged_perceptron_tagger')\n",
        "from nltk.corpus import wordnet\n",
        "from nltk.stem import WordNetLemmatizer\n",
        "\n",
        "lemmatizer = WordNetLemmatizer()\n",
        "wordnet_map = {\"N\":wordnet.NOUN, \"V\":wordnet.VERB, \"J\":wordnet.ADJ, \"R\":wordnet.ADV}\n",
        "def lemmatize_words(text):\n",
        "    pos_tagged_text = nltk.pos_tag(text.split())\n",
        "    return \" \".join([lemmatizer.lemmatize(word, wordnet_map.get(pos[0], wordnet.NOUN)) for word, pos in pos_tagged_text])\n",
        "\n",
        "df[\"text_lemmatized\"] = df[\"text_wo_htmlno\"].apply(lambda text: lemmatize_words(text))\n",
        "df.head()"
      ],
      "execution_count": null,
      "outputs": [
        {
          "output_type": "stream",
          "name": "stdout",
          "text": [
            "[nltk_data] Downloading package averaged_perceptron_tagger to\n",
            "[nltk_data]     /root/nltk_data...\n",
            "[nltk_data]   Package averaged_perceptron_tagger is already up-to-\n",
            "[nltk_data]       date!\n"
          ]
        },
        {
          "output_type": "execute_result",
          "data": {
            "text/html": [
              "<div>\n",
              "<style scoped>\n",
              "    .dataframe tbody tr th:only-of-type {\n",
              "        vertical-align: middle;\n",
              "    }\n",
              "\n",
              "    .dataframe tbody tr th {\n",
              "        vertical-align: top;\n",
              "    }\n",
              "\n",
              "    .dataframe thead th {\n",
              "        text-align: right;\n",
              "    }\n",
              "</style>\n",
              "<table border=\"1\" class=\"dataframe\">\n",
              "  <thead>\n",
              "    <tr style=\"text-align: right;\">\n",
              "      <th></th>\n",
              "      <th>text</th>\n",
              "      <th>tweet</th>\n",
              "      <th>text_lower</th>\n",
              "      <th>text_wo_punct</th>\n",
              "      <th>text_wo_stop</th>\n",
              "      <th>text_wo_urlno</th>\n",
              "      <th>text_wo_htmlno</th>\n",
              "      <th>text_lemmatized</th>\n",
              "    </tr>\n",
              "  </thead>\n",
              "  <tbody>\n",
              "    <tr>\n",
              "      <th>0</th>\n",
              "      <td>Hurray, saving us $$$ in so many ways @potus @...</td>\n",
              "      <td>Hurray, saving us $$$ in so many ways   #LockT...</td>\n",
              "      <td>hurray, saving us $$$ in so many ways   #lockt...</td>\n",
              "      <td>hurray saving us  in so many ways   lockthemup...</td>\n",
              "      <td>hurray saving us many ways lockthemup buildthe...</td>\n",
              "      <td>hurray saving us many ways lockthemup buildthe...</td>\n",
              "      <td>hurray saving us many ways lockthemup buildthe...</td>\n",
              "      <td>hurray save u many way lockthemup buildthewall...</td>\n",
              "    </tr>\n",
              "    <tr>\n",
              "      <th>1</th>\n",
              "      <td>Why would young fighting age men be the vast m...</td>\n",
              "      <td>Why would young fighting age men be the vast m...</td>\n",
              "      <td>why would young fighting age men be the vast m...</td>\n",
              "      <td>why would young fighting age men be the vast m...</td>\n",
              "      <td>would young fighting age men vast majority one...</td>\n",
              "      <td>would young fighting age men vast majority one...</td>\n",
              "      <td>would young fighting age men vast majority one...</td>\n",
              "      <td>would young fight age men vast majority one es...</td>\n",
              "    </tr>\n",
              "    <tr>\n",
              "      <th>2</th>\n",
              "      <td>@KamalaHarris Illegals Dump their Kids at the ...</td>\n",
              "      <td>Illegals Dump their Kids at the border like R...</td>\n",
              "      <td>illegals dump their kids at the border like r...</td>\n",
              "      <td>illegals dump their kids at the border like r...</td>\n",
              "      <td>illegals dump kids border like road kill refus...</td>\n",
              "      <td>illegals dump kids border like road kill refus...</td>\n",
              "      <td>illegals dump kids border like road kill refus...</td>\n",
              "      <td>illegals dump kid border like road kill refuse...</td>\n",
              "    </tr>\n",
              "    <tr>\n",
              "      <th>3</th>\n",
              "      <td>NY Times: 'Nearly All White' States Pose 'an A...</td>\n",
              "      <td>NY Times: 'Nearly All White' States Pose 'an A...</td>\n",
              "      <td>ny times: 'nearly all white' states pose 'an a...</td>\n",
              "      <td>ny times nearly all white states pose an array...</td>\n",
              "      <td>ny times nearly white states pose array proble...</td>\n",
              "      <td>ny times nearly white states pose array proble...</td>\n",
              "      <td>ny times nearly white states pose array proble...</td>\n",
              "      <td>ny time nearly white state pose array problem ...</td>\n",
              "    </tr>\n",
              "    <tr>\n",
              "      <th>4</th>\n",
              "      <td>Orban in Brussels: European leaders are ignori...</td>\n",
              "      <td>Orban in Brussels: European leaders are ignori...</td>\n",
              "      <td>orban in brussels: european leaders are ignori...</td>\n",
              "      <td>orban in brussels european leaders are ignorin...</td>\n",
              "      <td>orban brussels european leaders ignoring peopl...</td>\n",
              "      <td>orban brussels european leaders ignoring peopl...</td>\n",
              "      <td>orban brussels european leaders ignoring peopl...</td>\n",
              "      <td>orban brussels european leader ignore people w...</td>\n",
              "    </tr>\n",
              "  </tbody>\n",
              "</table>\n",
              "</div>"
            ],
            "text/plain": [
              "                                                text  ...                                    text_lemmatized\n",
              "0  Hurray, saving us $$$ in so many ways @potus @...  ...  hurray save u many way lockthemup buildthewall...\n",
              "1  Why would young fighting age men be the vast m...  ...  would young fight age men vast majority one es...\n",
              "2  @KamalaHarris Illegals Dump their Kids at the ...  ...  illegals dump kid border like road kill refuse...\n",
              "3  NY Times: 'Nearly All White' States Pose 'an A...  ...  ny time nearly white state pose array problem ...\n",
              "4  Orban in Brussels: European leaders are ignori...  ...  orban brussels european leader ignore people w...\n",
              "\n",
              "[5 rows x 8 columns]"
            ]
          },
          "metadata": {},
          "execution_count": 138
        }
      ]
    },
    {
      "cell_type": "code",
      "metadata": {
        "colab": {
          "base_uri": "https://localhost:8080/",
          "height": 35
        },
        "id": "kKe6YsjQkqMB",
        "outputId": "fd8ae230-98db-4127-8cb1-535b7dcb5342"
      },
      "source": [
        "lemmatizer.lemmatize(\"running\")\n"
      ],
      "execution_count": null,
      "outputs": [
        {
          "output_type": "execute_result",
          "data": {
            "application/vnd.google.colaboratory.intrinsic+json": {
              "type": "string"
            },
            "text/plain": [
              "'running'"
            ]
          },
          "metadata": {},
          "execution_count": 139
        }
      ]
    },
    {
      "cell_type": "code",
      "metadata": {
        "colab": {
          "base_uri": "https://localhost:8080/"
        },
        "id": "pMQKNX0wkt3p",
        "outputId": "420473a4-3d50-4347-a5b8-669bbdf57869"
      },
      "source": [
        "df['text_lemmatized'].to_list"
      ],
      "execution_count": null,
      "outputs": [
        {
          "output_type": "execute_result",
          "data": {
            "text/plain": [
              "<bound method IndexOpsMixin.tolist of 0       hurray save u many way lockthemup buildthewall...\n",
              "1       would young fight age men vast majority one es...\n",
              "2       illegals dump kid border like road kill refuse...\n",
              "3       ny time nearly white state pose array problem ...\n",
              "4       orban brussels european leader ignore people w...\n",
              "                              ...                        \n",
              "8995                               proud hysterical woman\n",
              "8996    hollywood complicit rape sexual assault woman ...\n",
              "8997    fuck cunt hate see kid get neglect used parent...\n",
              "8998                                hysterical woman like\n",
              "8999    nearly every woman know metoo fee sexual harre...\n",
              "Name: text_lemmatized, Length: 9000, dtype: object>"
            ]
          },
          "metadata": {},
          "execution_count": 140
        }
      ]
    },
    {
      "cell_type": "markdown",
      "metadata": {
        "id": "MzjUO445oJS7"
      },
      "source": [
        "TOKENIZATION"
      ]
    },
    {
      "cell_type": "code",
      "metadata": {
        "colab": {
          "base_uri": "https://localhost:8080/"
        },
        "id": "n1wRiYmFoKtD",
        "outputId": "7c2714fa-3526-4b5b-cb9c-451e512d3a4b"
      },
      "source": [
        "nltk.download('punkt')\n",
        "\n",
        "nltk_token = df[\"text_lemmatized\"].apply(lambda text:  nltk.word_tokenize(text))\n",
        "#df.head()\n",
        "print(nltk_token)\n",
        "#nltk_tokens = nltk.sent_tokenize(df['text_lemmatized'])\n",
        "#print (nltk_tokens)"
      ],
      "execution_count": null,
      "outputs": [
        {
          "output_type": "stream",
          "name": "stdout",
          "text": [
            "[nltk_data] Downloading package punkt to /root/nltk_data...\n",
            "[nltk_data]   Package punkt is already up-to-date!\n",
            "0       [hurray, save, u, many, way, lockthemup, build...\n",
            "1       [would, young, fight, age, men, vast, majority...\n",
            "2       [illegals, dump, kid, border, like, road, kill...\n",
            "3       [ny, time, nearly, white, state, pose, array, ...\n",
            "4       [orban, brussels, european, leader, ignore, pe...\n",
            "                              ...                        \n",
            "8995                           [proud, hysterical, woman]\n",
            "8996    [hollywood, complicit, rape, sexual, assault, ...\n",
            "8997    [fuck, cunt, hate, see, kid, get, neglect, use...\n",
            "8998                            [hysterical, woman, like]\n",
            "8999    [nearly, every, woman, know, metoo, fee, sexua...\n",
            "Name: text_lemmatized, Length: 9000, dtype: object\n"
          ]
        }
      ]
    }
  ]
}